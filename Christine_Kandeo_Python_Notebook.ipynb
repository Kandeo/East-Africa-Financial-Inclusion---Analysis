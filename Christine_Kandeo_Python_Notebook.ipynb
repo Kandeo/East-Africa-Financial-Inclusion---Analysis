{
  "nbformat": 4,
  "nbformat_minor": 0,
  "metadata": {
    "colab": {
      "name": "Christine Kandeo Python Notebook",
      "provenance": [],
      "collapsed_sections": [],
      "authorship_tag": "ABX9TyMdyo2OgyvO+gEFGejSBFf2",
      "include_colab_link": true
    },
    "kernelspec": {
      "name": "python3",
      "display_name": "Python 3"
    },
    "language_info": {
      "name": "python"
    }
  },
  "cells": [
    {
      "cell_type": "markdown",
      "metadata": {
        "id": "view-in-github",
        "colab_type": "text"
      },
      "source": [
        "<a href=\"https://colab.research.google.com/github/Kandeo/Week-7-Project/blob/main/Christine_Kandeo_Python_Notebook.ipynb\" target=\"_parent\"><img src=\"https://colab.research.google.com/assets/colab-badge.svg\" alt=\"Open In Colab\"/></a>"
      ]
    },
    {
      "cell_type": "markdown",
      "metadata": {
        "id": "36jQ8_tZNf6W"
      },
      "source": [
        "# **Overview**\n",
        "\n",
        "Financial Inclusion remains one of the main obstacles to economic and human development in Africa. \n",
        "\n",
        "\n",
        "The research problem is to figure out how we can predict which individuals are most likely to have or use a bank account.\n",
        "\n",
        "\n",
        "**Dataset**\n",
        "\n",
        "The main dataset contains demographic information and what financial services are used by individuals across East Africa. \n",
        "\n",
        "This data was extracted from various Finscope surveys ranging from 2016 to 2018.\n",
        "\n",
        "Dataset Files:\n",
        "\n",
        "1. Variable Definitions: http://bit.ly/VariableDefinitions \n",
        "2. Dataset: http://bit.ly/FinancialDataset  \n",
        "\n"
      ]
    },
    {
      "cell_type": "markdown",
      "metadata": {
        "id": "e46bqoKDPaL8"
      },
      "source": [
        "# **Defining The Question**"
      ]
    },
    {
      "cell_type": "markdown",
      "metadata": {
        "id": "qGQtTlnjPr-5"
      },
      "source": [
        "**Specific Data Analytics Question**"
      ]
    },
    {
      "cell_type": "markdown",
      "metadata": {
        "id": "GuUoM_-EP0qv"
      },
      "source": [
        "Which individuals are most likely to have or use a bank account.\n"
      ]
    },
    {
      "cell_type": "markdown",
      "metadata": {
        "id": "0Ih31H3UQoeU"
      },
      "source": [
        "**Metric For Success**"
      ]
    },
    {
      "cell_type": "markdown",
      "metadata": {
        "id": "25RJSCKQQs-8"
      },
      "source": [
        "Being that access to bank accounts is a major indicator of financial inclusion, our Analysis should be able to:\n",
        "\n",
        "- design a model that can accurately predict individuals likely to have or use a bank account.\n",
        "\n",
        "- Key demographic factors that might drive an individuals’ financial outcomes.\n",
        "\n",
        "\n"
      ]
    },
    {
      "cell_type": "markdown",
      "metadata": {
        "id": "gYfSjER-QvbQ"
      },
      "source": [
        "**Research Context**"
      ]
    },
    {
      "cell_type": "markdown",
      "metadata": {
        "id": "rdzzzVxQRDyD"
      },
      "source": [
        "Across Kenya, Rwanda, Tanzania, and Uganda only 9.1 million adults (or 13.9% of the adult population) have access to or use a commercial bank account.\n",
        "\n",
        "Despite the proliferation of mobile money in Africa and the growth of innovative fintech solutions, banks still play a pivotal role in facilitating access to financial services.\n",
        "\n",
        "Access to bank accounts enables households to save and facilitate payments while also helping businesses build up their credit-worthiness and improve their access to other financial services.\n",
        "\n",
        "Therefore, access to bank accounts is an essential contributor to long-term economic growth.\n"
      ]
    },
    {
      "cell_type": "markdown",
      "metadata": {
        "id": "CHYYuMRMRE8a"
      },
      "source": [
        "**Experimental Design**"
      ]
    },
    {
      "cell_type": "markdown",
      "metadata": {
        "id": "guPiU3hAiP0E"
      },
      "source": [
        "Multiple Regression and Reduction Technique shall be used to make predictions."
      ]
    },
    {
      "cell_type": "markdown",
      "metadata": {
        "id": "NeVU1ZKURUjX"
      },
      "source": [
        "**Data Relevance**"
      ]
    },
    {
      "cell_type": "markdown",
      "metadata": {
        "id": "8DPJ6uDEmkxW"
      },
      "source": [
        "The data was extracted from various Finscope surveys ranging from 2016 to 2018 across the Kenya, Uganda, Rwanda and Tanzania"
      ]
    },
    {
      "cell_type": "markdown",
      "metadata": {
        "id": "-KlAevQzRfSA"
      },
      "source": [
        "# **Data Loading**"
      ]
    },
    {
      "cell_type": "code",
      "metadata": {
        "colab": {
          "base_uri": "https://localhost:8080/",
          "height": 262
        },
        "id": "nqWilxlIRpIQ",
        "outputId": "831a9c0a-a34c-45da-b6d6-d48b626cb8c2"
      },
      "source": [
        "#Importing Libraries:\n",
        "\n",
        "import pandas as pd\n",
        "import numpy as np\n",
        "import matplotlib.pyplot as plt\n",
        "import seaborn as sns\n",
        "from scipy.stats import ttest_ind\n",
        "import warnings\n",
        "warnings.filterwarnings(\"ignore\")\n",
        "\n",
        "#Reading and Previewing Our Dataset:\n",
        "df = pd.read_csv(\"http://bit.ly/FinancialDataset\")\n",
        "df.head(3)"
      ],
      "execution_count": 135,
      "outputs": [
        {
          "output_type": "execute_result",
          "data": {
            "text/html": [
              "<div>\n",
              "<style scoped>\n",
              "    .dataframe tbody tr th:only-of-type {\n",
              "        vertical-align: middle;\n",
              "    }\n",
              "\n",
              "    .dataframe tbody tr th {\n",
              "        vertical-align: top;\n",
              "    }\n",
              "\n",
              "    .dataframe thead th {\n",
              "        text-align: right;\n",
              "    }\n",
              "</style>\n",
              "<table border=\"1\" class=\"dataframe\">\n",
              "  <thead>\n",
              "    <tr style=\"text-align: right;\">\n",
              "      <th></th>\n",
              "      <th>country</th>\n",
              "      <th>year</th>\n",
              "      <th>uniqueid</th>\n",
              "      <th>Has a Bank account</th>\n",
              "      <th>Type of Location</th>\n",
              "      <th>Cell Phone Access</th>\n",
              "      <th>household_size</th>\n",
              "      <th>Respondent Age</th>\n",
              "      <th>gender_of_respondent</th>\n",
              "      <th>The relathip with head</th>\n",
              "      <th>marital_status</th>\n",
              "      <th>Level of Educuation</th>\n",
              "      <th>Type of Job</th>\n",
              "    </tr>\n",
              "  </thead>\n",
              "  <tbody>\n",
              "    <tr>\n",
              "      <th>0</th>\n",
              "      <td>Kenya</td>\n",
              "      <td>2018</td>\n",
              "      <td>uniqueid_1</td>\n",
              "      <td>Yes</td>\n",
              "      <td>Rural</td>\n",
              "      <td>Yes</td>\n",
              "      <td>3.0</td>\n",
              "      <td>24.0</td>\n",
              "      <td>Female</td>\n",
              "      <td>Spouse</td>\n",
              "      <td>Married/Living together</td>\n",
              "      <td>Secondary education</td>\n",
              "      <td>Self employed</td>\n",
              "    </tr>\n",
              "    <tr>\n",
              "      <th>1</th>\n",
              "      <td>Kenya</td>\n",
              "      <td>2018</td>\n",
              "      <td>uniqueid_2</td>\n",
              "      <td>No</td>\n",
              "      <td>Rural</td>\n",
              "      <td>No</td>\n",
              "      <td>5.0</td>\n",
              "      <td>70.0</td>\n",
              "      <td>Female</td>\n",
              "      <td>Head of Household</td>\n",
              "      <td>Widowed</td>\n",
              "      <td>No formal education</td>\n",
              "      <td>Government Dependent</td>\n",
              "    </tr>\n",
              "    <tr>\n",
              "      <th>2</th>\n",
              "      <td>Kenya</td>\n",
              "      <td>2018</td>\n",
              "      <td>uniqueid_3</td>\n",
              "      <td>Yes</td>\n",
              "      <td>Urban</td>\n",
              "      <td>Yes</td>\n",
              "      <td>5.0</td>\n",
              "      <td>26.0</td>\n",
              "      <td>Male</td>\n",
              "      <td>Other relative</td>\n",
              "      <td>Single/Never Married</td>\n",
              "      <td>Vocational/Specialised training</td>\n",
              "      <td>Self employed</td>\n",
              "    </tr>\n",
              "  </tbody>\n",
              "</table>\n",
              "</div>"
            ],
            "text/plain": [
              "  country  year  ...              Level of Educuation           Type of Job\n",
              "0   Kenya  2018  ...              Secondary education         Self employed\n",
              "1   Kenya  2018  ...              No formal education  Government Dependent\n",
              "2   Kenya  2018  ...  Vocational/Specialised training         Self employed\n",
              "\n",
              "[3 rows x 13 columns]"
            ]
          },
          "metadata": {},
          "execution_count": 135
        }
      ]
    },
    {
      "cell_type": "markdown",
      "metadata": {
        "id": "ABvRxh7yTxLu"
      },
      "source": [
        "Checking the Data"
      ]
    },
    {
      "cell_type": "code",
      "metadata": {
        "colab": {
          "base_uri": "https://localhost:8080/"
        },
        "id": "yYjotL7xTzES",
        "outputId": "5f14c5ed-828d-4012-c25a-bd0b7490d2a1"
      },
      "source": [
        "#Checking the Shape of the Dataset:\n",
        "df.shape\n",
        "\n",
        "#Finding the Number Of Records Per Column :\n",
        "#df.count()"
      ],
      "execution_count": 136,
      "outputs": [
        {
          "output_type": "execute_result",
          "data": {
            "text/plain": [
              "(23524, 13)"
            ]
          },
          "metadata": {},
          "execution_count": 136
        }
      ]
    },
    {
      "cell_type": "markdown",
      "metadata": {
        "id": "DfBwpGqzUL7y"
      },
      "source": [
        "The dataset has 23,524 Rows and 13 Columns"
      ]
    },
    {
      "cell_type": "code",
      "metadata": {
        "colab": {
          "base_uri": "https://localhost:8080/"
        },
        "id": "Jg4MD1G_VK4K",
        "outputId": "d7a92374-814e-4ccd-8287-43c83305032e"
      },
      "source": [
        "#Viewing the Datatypes in our columns:\n",
        "df.dtypes"
      ],
      "execution_count": 137,
      "outputs": [
        {
          "output_type": "execute_result",
          "data": {
            "text/plain": [
              "country                    object\n",
              "year                        int64\n",
              "uniqueid                   object\n",
              "Has a Bank account         object\n",
              "Type of Location           object\n",
              "Cell Phone Access          object\n",
              "household_size            float64\n",
              "Respondent Age            float64\n",
              "gender_of_respondent       object\n",
              "The relathip with head     object\n",
              "marital_status             object\n",
              "Level of Educuation        object\n",
              "Type of Job                object\n",
              "dtype: object"
            ]
          },
          "metadata": {},
          "execution_count": 137
        }
      ]
    },
    {
      "cell_type": "markdown",
      "metadata": {
        "id": "Gc40lHenVg46"
      },
      "source": [
        "**External Source Data Validation**"
      ]
    },
    {
      "cell_type": "markdown",
      "metadata": {
        "id": "KGaiIn7Qnddz"
      },
      "source": [
        "More information about the surveys can be reviewed from the following reports:\n",
        "\n",
        "1. FinAccess Kenya 2018; https://fsdkenya.org/publication/finaccess2019/    \n",
        "\n",
        "2. Finscope Rwanda 2016; http://www.statistics.gov.rw/publication/finscope-rwanda-2016\n",
        "3. Finscope Tanzania 2017; http://www.fsdt.or.tz/finscope/ \n",
        "4. Finscope Uganda 2018; http://fsduganda.or.ug/finscope-2018-survey-report/"
      ]
    },
    {
      "cell_type": "markdown",
      "metadata": {
        "id": "QU2Rd1k8Vxkb"
      },
      "source": [
        "# **Data Cleaning**"
      ]
    },
    {
      "cell_type": "markdown",
      "metadata": {
        "id": "_Y_QguwupXKY"
      },
      "source": [
        "Irrelevant Observations"
      ]
    },
    {
      "cell_type": "code",
      "metadata": {
        "colab": {
          "base_uri": "https://localhost:8080/",
          "height": 374
        },
        "id": "vqtiyzyeb1cG",
        "outputId": "d522891e-6c13-4b75-c5dd-527790935cdb"
      },
      "source": [
        "#Dropping the Year and UniqueID column as they wont affect our analysis:\n",
        "df.drop(df.columns[[1]], axis=1, inplace = True)\n",
        "df.head()"
      ],
      "execution_count": 138,
      "outputs": [
        {
          "output_type": "execute_result",
          "data": {
            "text/html": [
              "<div>\n",
              "<style scoped>\n",
              "    .dataframe tbody tr th:only-of-type {\n",
              "        vertical-align: middle;\n",
              "    }\n",
              "\n",
              "    .dataframe tbody tr th {\n",
              "        vertical-align: top;\n",
              "    }\n",
              "\n",
              "    .dataframe thead th {\n",
              "        text-align: right;\n",
              "    }\n",
              "</style>\n",
              "<table border=\"1\" class=\"dataframe\">\n",
              "  <thead>\n",
              "    <tr style=\"text-align: right;\">\n",
              "      <th></th>\n",
              "      <th>country</th>\n",
              "      <th>uniqueid</th>\n",
              "      <th>Has a Bank account</th>\n",
              "      <th>Type of Location</th>\n",
              "      <th>Cell Phone Access</th>\n",
              "      <th>household_size</th>\n",
              "      <th>Respondent Age</th>\n",
              "      <th>gender_of_respondent</th>\n",
              "      <th>The relathip with head</th>\n",
              "      <th>marital_status</th>\n",
              "      <th>Level of Educuation</th>\n",
              "      <th>Type of Job</th>\n",
              "    </tr>\n",
              "  </thead>\n",
              "  <tbody>\n",
              "    <tr>\n",
              "      <th>0</th>\n",
              "      <td>Kenya</td>\n",
              "      <td>uniqueid_1</td>\n",
              "      <td>Yes</td>\n",
              "      <td>Rural</td>\n",
              "      <td>Yes</td>\n",
              "      <td>3.0</td>\n",
              "      <td>24.0</td>\n",
              "      <td>Female</td>\n",
              "      <td>Spouse</td>\n",
              "      <td>Married/Living together</td>\n",
              "      <td>Secondary education</td>\n",
              "      <td>Self employed</td>\n",
              "    </tr>\n",
              "    <tr>\n",
              "      <th>1</th>\n",
              "      <td>Kenya</td>\n",
              "      <td>uniqueid_2</td>\n",
              "      <td>No</td>\n",
              "      <td>Rural</td>\n",
              "      <td>No</td>\n",
              "      <td>5.0</td>\n",
              "      <td>70.0</td>\n",
              "      <td>Female</td>\n",
              "      <td>Head of Household</td>\n",
              "      <td>Widowed</td>\n",
              "      <td>No formal education</td>\n",
              "      <td>Government Dependent</td>\n",
              "    </tr>\n",
              "    <tr>\n",
              "      <th>2</th>\n",
              "      <td>Kenya</td>\n",
              "      <td>uniqueid_3</td>\n",
              "      <td>Yes</td>\n",
              "      <td>Urban</td>\n",
              "      <td>Yes</td>\n",
              "      <td>5.0</td>\n",
              "      <td>26.0</td>\n",
              "      <td>Male</td>\n",
              "      <td>Other relative</td>\n",
              "      <td>Single/Never Married</td>\n",
              "      <td>Vocational/Specialised training</td>\n",
              "      <td>Self employed</td>\n",
              "    </tr>\n",
              "    <tr>\n",
              "      <th>3</th>\n",
              "      <td>Kenya</td>\n",
              "      <td>uniqueid_4</td>\n",
              "      <td>No</td>\n",
              "      <td>Rural</td>\n",
              "      <td>Yes</td>\n",
              "      <td>5.0</td>\n",
              "      <td>34.0</td>\n",
              "      <td>Female</td>\n",
              "      <td>Head of Household</td>\n",
              "      <td>Married/Living together</td>\n",
              "      <td>Primary education</td>\n",
              "      <td>Formally employed Private</td>\n",
              "    </tr>\n",
              "    <tr>\n",
              "      <th>4</th>\n",
              "      <td>Kenya</td>\n",
              "      <td>uniqueid_5</td>\n",
              "      <td>No</td>\n",
              "      <td>Urban</td>\n",
              "      <td>No</td>\n",
              "      <td>8.0</td>\n",
              "      <td>26.0</td>\n",
              "      <td>Male</td>\n",
              "      <td>Child</td>\n",
              "      <td>Single/Never Married</td>\n",
              "      <td>Primary education</td>\n",
              "      <td>Informally employed</td>\n",
              "    </tr>\n",
              "  </tbody>\n",
              "</table>\n",
              "</div>"
            ],
            "text/plain": [
              "  country  ...                Type of Job\n",
              "0   Kenya  ...              Self employed\n",
              "1   Kenya  ...       Government Dependent\n",
              "2   Kenya  ...              Self employed\n",
              "3   Kenya  ...  Formally employed Private\n",
              "4   Kenya  ...        Informally employed\n",
              "\n",
              "[5 rows x 12 columns]"
            ]
          },
          "metadata": {},
          "execution_count": 138
        }
      ]
    },
    {
      "cell_type": "markdown",
      "metadata": {
        "id": "39Yvu-5TT0WO"
      },
      "source": [
        "Missing and Duplicate Values"
      ]
    },
    {
      "cell_type": "code",
      "metadata": {
        "colab": {
          "base_uri": "https://localhost:8080/"
        },
        "id": "EgLjOl6aTXSG",
        "outputId": "1835a13b-3920-4f7d-923c-f20fd77bd4a8"
      },
      "source": [
        "#Identifying Missing Values:\n",
        "df.isnull().sum()"
      ],
      "execution_count": 139,
      "outputs": [
        {
          "output_type": "execute_result",
          "data": {
            "text/plain": [
              "country                   14\n",
              "uniqueid                   0\n",
              "Has a Bank account        36\n",
              "Type of Location          15\n",
              "Cell Phone Access         11\n",
              "household_size            28\n",
              "Respondent Age            34\n",
              "gender_of_respondent      34\n",
              "The relathip with head     4\n",
              "marital_status            32\n",
              "Level of Educuation       29\n",
              "Type of Job               30\n",
              "dtype: int64"
            ]
          },
          "metadata": {},
          "execution_count": 139
        }
      ]
    },
    {
      "cell_type": "markdown",
      "metadata": {
        "id": "e0iPp6eRThP_"
      },
      "source": [
        "This displays the number of missing values in each column. "
      ]
    },
    {
      "cell_type": "code",
      "metadata": {
        "id": "Comy3jkRqvWe"
      },
      "source": [
        "#Renaming the relevant columns for ease of analysis:\n",
        "df1 = df.rename(columns = {'Respondent Age': 'Age', 'Has a Bank account': 'Bank_Access', 'Cell Phone Access':'Phone_Access', 'Type of Location':'Location', 'Level of Educuation':'Education', 'Type of Job':'Occupation', 'gender_of_respondent':'Sex', 'household_size':'HH_Size'}, inplace = True)"
      ],
      "execution_count": 140,
      "outputs": []
    },
    {
      "cell_type": "code",
      "metadata": {
        "colab": {
          "base_uri": "https://localhost:8080/"
        },
        "id": "cLLoQhemhuLu",
        "outputId": "0c70a789-9018-4142-864e-cad8c5930011"
      },
      "source": [
        "#Dropping the Observations with missing data:\n",
        "df1=df.dropna()\n",
        "df1.isnull().sum()"
      ],
      "execution_count": 141,
      "outputs": [
        {
          "output_type": "execute_result",
          "data": {
            "text/plain": [
              "country                   0\n",
              "uniqueid                  0\n",
              "Bank_Access               0\n",
              "Location                  0\n",
              "Phone_Access              0\n",
              "HH_Size                   0\n",
              "Age                       0\n",
              "Sex                       0\n",
              "The relathip with head    0\n",
              "marital_status            0\n",
              "Education                 0\n",
              "Occupation                0\n",
              "dtype: int64"
            ]
          },
          "metadata": {},
          "execution_count": 141
        }
      ]
    },
    {
      "cell_type": "code",
      "metadata": {
        "colab": {
          "base_uri": "https://localhost:8080/"
        },
        "id": "0X4O-0y1nYgZ",
        "outputId": "f7899a2c-c94c-4ac8-b8a4-713d3c8a8d53"
      },
      "source": [
        "#Checking and Dropping any Duplicates:\n",
        "df1.duplicated().sum()\n",
        "#The data has 4,371 Duplicates. Dropping them for better analysis:\n",
        "df1.drop_duplicates(inplace=True)\n",
        "df1.duplicated().sum()"
      ],
      "execution_count": 142,
      "outputs": [
        {
          "output_type": "execute_result",
          "data": {
            "text/plain": [
              "0"
            ]
          },
          "metadata": {},
          "execution_count": 142
        }
      ]
    },
    {
      "cell_type": "markdown",
      "metadata": {
        "id": "_IRvgfOxCsA_"
      },
      "source": [
        "For Eligibility purpose, observations of respondents below the Age of 18 are dropped.\n",
        "\n",
        "Adult Population is considered to be 18 years and above"
      ]
    },
    {
      "cell_type": "code",
      "metadata": {
        "id": "PPGM8kJFCF4p"
      },
      "source": [
        "#Dropping observations of those below the age of 18:\n",
        "Nonadults = df1[ df1['Age'] < 18 ].index\n",
        "df1.drop(Nonadults , inplace=True)"
      ],
      "execution_count": 143,
      "outputs": []
    },
    {
      "cell_type": "markdown",
      "metadata": {
        "id": "6QiyWsa2Akeu"
      },
      "source": [
        "Household size of 0 is removed for data accuracy"
      ]
    },
    {
      "cell_type": "code",
      "metadata": {
        "id": "H3mKfCK_OtqL"
      },
      "source": [
        "HSize = df1[ df1['HH_Size'] == 0 ].index\n",
        "df1.drop(HSize , inplace=True)"
      ],
      "execution_count": 144,
      "outputs": []
    },
    {
      "cell_type": "markdown",
      "metadata": {
        "id": "DZ8XC_-CqC2V"
      },
      "source": [
        "Outliers and Anomalies"
      ]
    },
    {
      "cell_type": "code",
      "metadata": {
        "colab": {
          "base_uri": "https://localhost:8080/",
          "height": 429
        },
        "id": "j7-i8BjU8hd9",
        "outputId": "5123f274-8b27-4e71-ddf5-b4627492a0be"
      },
      "source": [
        "#Checking for Outliers in our dataset:\n",
        "\n",
        "df1.boxplot(column=['HH_Size', 'Age'], figsize=(8, 6), fontsize=10, grid=True)\n",
        "plt.title('Outliers Check')\n",
        "plt.xlabel('Numerical Variables')\n",
        "plt.ylabel('Data')"
      ],
      "execution_count": 145,
      "outputs": [
        {
          "output_type": "execute_result",
          "data": {
            "text/plain": [
              "Text(0, 0.5, 'Data')"
            ]
          },
          "metadata": {},
          "execution_count": 145
        },
        {
          "output_type": "display_data",
          "data": {
            "image/png": "[encoded data removed]",
            "text/plain": [
              "<Figure size 576x432 with 1 Axes>"
            ]
          },
          "metadata": {}
        }
      ]
    },
    {
      "cell_type": "markdown",
      "metadata": {
        "id": "3d3U_SVP-mYn"
      },
      "source": [
        "Both our numerical variables contain Outliers as plots can be observed outside the upper quantile. "
      ]
    },
    {
      "cell_type": "markdown",
      "metadata": {
        "id": "IX9LvNdk-pTW"
      },
      "source": [
        "Removing Outliers"
      ]
    },
    {
      "cell_type": "code",
      "metadata": {
        "id": "p3ZW3-YH5rR0"
      },
      "source": [
        "#Finding  Q1 and Q3:\n",
        "Q1 = df1.quantile(0.25)\n",
        "Q3 = df1.quantile(0.75)\n",
        "Q1, Q3\n",
        "\n",
        "#Finding Interquartile\n",
        "IQR = Q3 - Q1\n",
        "IQR\n",
        "\n",
        "#Finding the Lower and Upper Limits:\n",
        "lower_limit = Q1-1.5*IQR\n",
        "upper_limit = Q3+1.5*IQR\n",
        "lower_limit, upper_limit\n",
        "\n",
        "#Returning a boolean array of the rows with (any) non-outlier column values:\n",
        "df2 =df1[~((df1<lower_limit) | (df1>upper_limit)).any(axis=1)]\n"
      ],
      "execution_count": 146,
      "outputs": []
    },
    {
      "cell_type": "markdown",
      "metadata": {
        "id": "AT4-FPRPsBl1"
      },
      "source": [
        "Exporting the Dataset"
      ]
    },
    {
      "cell_type": "code",
      "metadata": {
        "id": "mzj3Jl7MrV3u"
      },
      "source": [
        "#To export our cleaned dataset:\n",
        "df2.to_csv('FinancialInclusion.csv')"
      ],
      "execution_count": 69,
      "outputs": []
    },
    {
      "cell_type": "markdown",
      "metadata": {
        "id": "Z1xMViEFZ_ZL"
      },
      "source": [
        "# **Exploratory Data Analysis**"
      ]
    },
    {
      "cell_type": "markdown",
      "metadata": {
        "id": "-J7L4zWDaCcH"
      },
      "source": [
        "**Univariate Analysis**\n",
        "\n",
        "From this analysis we seek to understand:\n",
        "- Key Demographic Factors\n",
        " "
      ]
    },
    {
      "cell_type": "markdown",
      "metadata": {
        "id": "I2gSrczawU--"
      },
      "source": [
        "1. Gender"
      ]
    },
    {
      "cell_type": "code",
      "metadata": {
        "colab": {
          "base_uri": "https://localhost:8080/",
          "height": 265
        },
        "id": "7lFPJ8Q9v4vs",
        "outputId": "a6df768e-e602-4ca5-917a-98e8590a42ee"
      },
      "source": [
        "#Categorising our data based on Sex:\n",
        "df2['Sex'].value_counts()\n",
        "# Female: 10,587      Male: 7,133\n",
        "\n",
        "#Visualising the information on a pie chart:\n",
        "labels= ['Male','Female']\n",
        "colors=['C7', 'C5']\n",
        "sizes= [7133, 10587]\n",
        "plt.pie(sizes,labels=labels, colors=colors, startangle=90, shadow=True,explode=(0, 0.1), autopct='%1.2f%%')\n",
        "plt.title('Sex Distribution')\n",
        "plt.axis('equal')\n",
        "plt.show()\n",
        "\n"
      ],
      "execution_count": 147,
      "outputs": [
        {
          "output_type": "display_data",
          "data": {
            "image/png": "[encoded data removed]",
            "text/plain": [
              "<Figure size 432x288 with 1 Axes>"
            ]
          },
          "metadata": {}
        }
      ]
    },
    {
      "cell_type": "markdown",
      "metadata": {
        "id": "o4ygHdat7osO"
      },
      "source": [
        "Of the Data provided, 59.75% were Female while 40.25% were male."
      ]
    },
    {
      "cell_type": "markdown",
      "metadata": {
        "id": "wU1_vv14BpdA"
      },
      "source": [
        "2. Marital Status"
      ]
    },
    {
      "cell_type": "code",
      "metadata": {
        "colab": {
          "base_uri": "https://localhost:8080/"
        },
        "id": "G549toB-V7vn",
        "outputId": "9396d495-0062-46c3-cb55-a8b63b4a042b"
      },
      "source": [
        "#To view the dataset by Marital status:\n",
        "df2['marital_status'].value_counts(normalize=True)*100"
      ],
      "execution_count": 148,
      "outputs": [
        {
          "output_type": "execute_result",
          "data": {
            "text/plain": [
              "Married/Living together    47.736852\n",
              "Single/Never Married       32.435404\n",
              "Widowed                    11.531061\n",
              "Divorced/Seperated          8.260033\n",
              "Dont know                   0.036650\n",
              "Name: marital_status, dtype: float64"
            ]
          },
          "metadata": {},
          "execution_count": 148
        }
      ]
    },
    {
      "cell_type": "markdown",
      "metadata": {
        "id": "-Fo7FzOX9SYS"
      },
      "source": [
        "Most people were either Married/Living together or Single/Never married."
      ]
    },
    {
      "cell_type": "markdown",
      "metadata": {
        "id": "LjGDXKbIwYU7"
      },
      "source": [
        "3. Geographical Area"
      ]
    },
    {
      "cell_type": "code",
      "metadata": {
        "colab": {
          "base_uri": "https://localhost:8080/",
          "height": 316
        },
        "id": "l4zlY31vwNvy",
        "outputId": "72dce73e-c3dc-4f52-9a69-90cceb3ddb02"
      },
      "source": [
        "#Viewing the Data in terms of Location:\n",
        "df2['Location'].value_counts() \n",
        "#Rural: 10,875   Urban: 6,845    \n",
        "\n",
        "#Visualizing the Information on a pie chart:\n",
        "sns.set(font_scale=1.2)\n",
        "df2['Location'].value_counts().plot(kind='bar', figsize=(5, 4), rot=0, color= ('C9','C2'))\n",
        "plt.xlabel(\"Centre\", labelpad=10)\n",
        "plt.ylabel(\"Frequency\", labelpad=10)\n",
        "plt.title(\"Geographical Area\", y=1.02);\n"
      ],
      "execution_count": 149,
      "outputs": [
        {
          "output_type": "display_data",
          "data": {
            "image/png": "[encoded data removed]",
            "text/plain": [
              "<Figure size 360x288 with 1 Axes>"
            ]
          },
          "metadata": {}
        }
      ]
    },
    {
      "cell_type": "markdown",
      "metadata": {
        "id": "S6qP8IYe_FAI"
      },
      "source": [
        "Majority lived in the Rural Area."
      ]
    },
    {
      "cell_type": "markdown",
      "metadata": {
        "id": "8bEuoUvhEdHd"
      },
      "source": [
        "4. Age Distribution"
      ]
    },
    {
      "cell_type": "code",
      "metadata": {
        "colab": {
          "base_uri": "https://localhost:8080/",
          "height": 316
        },
        "id": "WXBEk-iaEfaw",
        "outputId": "af7030f4-a771-45d9-a380-e378f64c61a5"
      },
      "source": [
        "#To find out the popular age group of our adult population:\n",
        "Age_Dist = df2['Age']\n",
        "bins = 5\n",
        "plt.hist(Age_Dist, bins=bins, edgecolor='black')\n",
        "plt.xlabel(\"Age\", labelpad=10)\n",
        "plt.ylabel(\"Frequency\", labelpad=10)\n",
        "plt.title(\"Age Distribution\", y=1.02);\n"
      ],
      "execution_count": 150,
      "outputs": [
        {
          "output_type": "display_data",
          "data": {
            "image/png": "[encoded data removed]",
            "text/plain": [
              "<Figure size 432x288 with 1 Axes>"
            ]
          },
          "metadata": {}
        }
      ]
    },
    {
      "cell_type": "markdown",
      "metadata": {
        "id": "O3aEv3foEPW5"
      },
      "source": [
        "Most respondents were around 20-40 Years of age"
      ]
    },
    {
      "cell_type": "markdown",
      "metadata": {
        "id": "F9gYjf6NCb1t"
      },
      "source": [
        "5. Education"
      ]
    },
    {
      "cell_type": "code",
      "metadata": {
        "colab": {
          "base_uri": "https://localhost:8080/"
        },
        "id": "cSkKxez7Ca3m",
        "outputId": "cea375af-4339-40cc-fa50-e0a1ca34b5f8"
      },
      "source": [
        "#To view the educational Attainment:\n",
        "df2['Education'].value_counts()"
      ],
      "execution_count": 151,
      "outputs": [
        {
          "output_type": "execute_result",
          "data": {
            "text/plain": [
              "Primary education                  12006\n",
              "No formal education                 4209\n",
              "Secondary education                 3677\n",
              "Tertiary education                  1127\n",
              "Vocational/Specialised training      778\n",
              "6                                     25\n",
              "Other/Dont know/RTA                    6\n",
              "Name: Education, dtype: int64"
            ]
          },
          "metadata": {},
          "execution_count": 151
        }
      ]
    },
    {
      "cell_type": "markdown",
      "metadata": {
        "id": "1jFK8ZQ5CzJY"
      },
      "source": [
        "The highest level of attainment was Primary Education."
      ]
    },
    {
      "cell_type": "markdown",
      "metadata": {
        "id": "hpRPyBDaKkY6"
      },
      "source": [
        "6. Bank Account ownership"
      ]
    },
    {
      "cell_type": "code",
      "metadata": {
        "colab": {
          "base_uri": "https://localhost:8080/",
          "height": 265
        },
        "id": "nY1E1SNiKnrT",
        "outputId": "82607419-d1b8-4207-b1c5-b73ea3babdbc"
      },
      "source": [
        "#Viewing our data in terms of Bank Ownership;\n",
        "df2['Bank_Access'].value_counts() \n",
        "#Yes: 3,065   No: 14,655\n",
        "\n",
        "labels= ['Yes','No']\n",
        "colors=['C1', 'C8']\n",
        "sizes= [3065, 14655]\n",
        "plt.pie(sizes,labels=labels, colors=colors, startangle=90, shadow=True,explode=(0, 0.1), autopct='%1.2f%%')\n",
        "plt.title('Bank Account Ownership')\n",
        "plt.axis('equal')\n",
        "plt.show()\n",
        "\n",
        "\n",
        "\n"
      ],
      "execution_count": 152,
      "outputs": [
        {
          "output_type": "display_data",
          "data": {
            "image/png": "[encoded data removed]",
            "text/plain": [
              "<Figure size 432x288 with 1 Axes>"
            ]
          },
          "metadata": {}
        }
      ]
    },
    {
      "cell_type": "markdown",
      "metadata": {
        "id": "5h4tI1iyOp3t"
      },
      "source": [
        "17.30% of Our Sample had Bank accounts"
      ]
    },
    {
      "cell_type": "markdown",
      "metadata": {
        "id": "wLFURWCgKUCm"
      },
      "source": [
        "7. Mobile Phone Accessibility"
      ]
    },
    {
      "cell_type": "code",
      "metadata": {
        "colab": {
          "base_uri": "https://localhost:8080/"
        },
        "id": "GNuOKwnEKTqS",
        "outputId": "4da93870-39dc-462d-92a1-372497ca2739"
      },
      "source": [
        "#Viewing our adult population in terms of those with access to a mobile phone device:\n",
        "df2['Phone_Access'].value_counts(normalize=True)*100"
      ],
      "execution_count": 153,
      "outputs": [
        {
          "output_type": "execute_result",
          "data": {
            "text/plain": [
              "Yes    75.82921\n",
              "No     24.17079\n",
              "Name: Phone_Access, dtype: float64"
            ]
          },
          "metadata": {},
          "execution_count": 153
        }
      ]
    },
    {
      "cell_type": "markdown",
      "metadata": {
        "id": "2Za13mgSKHWY"
      },
      "source": [
        "76% of the total sample had access to mobile phones"
      ]
    },
    {
      "cell_type": "markdown",
      "metadata": {
        "id": "ID5096P51kCb"
      },
      "source": [
        "8. Occupation"
      ]
    },
    {
      "cell_type": "code",
      "metadata": {
        "colab": {
          "base_uri": "https://localhost:8080/"
        },
        "id": "pYpBH7hr1al6",
        "outputId": "f4b1ad35-833a-452b-bc24-30be4b12bdb0"
      },
      "source": [
        "#To view the type of jobs most individuals engaged in:\n",
        "df2['Occupation'].value_counts()"
      ],
      "execution_count": 154,
      "outputs": [
        {
          "output_type": "execute_result",
          "data": {
            "text/plain": [
              "Self employed                   6125\n",
              "Informally employed             5335\n",
              "Farming and Fishing             5192\n",
              "Remittance Dependent            1997\n",
              "Formally employed Private       1023\n",
              "Other Income                     980\n",
              "No Income                        473\n",
              "Formally employed Government     380\n",
              "Government Dependent             207\n",
              "Dont Know/Refuse to answer       116\n",
              "Name: Occupation, dtype: int64"
            ]
          },
          "metadata": {},
          "execution_count": 154
        }
      ]
    },
    {
      "cell_type": "markdown",
      "metadata": {
        "id": "piZIKNFN1neV"
      },
      "source": [
        "Majority of the individuals were either self employed  or informally employed"
      ]
    },
    {
      "cell_type": "code",
      "metadata": {
        "colab": {
          "base_uri": "https://localhost:8080/",
          "height": 295
        },
        "id": "bRvBD7LsNfuo",
        "outputId": "1621f004-7d03-44ba-8d7d-6271d42cf866"
      },
      "source": [
        "#A descriptive summary of  our Numerical variables:\n",
        "df2.describe()"
      ],
      "execution_count": 155,
      "outputs": [
        {
          "output_type": "execute_result",
          "data": {
            "text/html": [
              "<div>\n",
              "<style scoped>\n",
              "    .dataframe tbody tr th:only-of-type {\n",
              "        vertical-align: middle;\n",
              "    }\n",
              "\n",
              "    .dataframe tbody tr th {\n",
              "        vertical-align: top;\n",
              "    }\n",
              "\n",
              "    .dataframe thead th {\n",
              "        text-align: right;\n",
              "    }\n",
              "</style>\n",
              "<table border=\"1\" class=\"dataframe\">\n",
              "  <thead>\n",
              "    <tr style=\"text-align: right;\">\n",
              "      <th></th>\n",
              "      <th>HH_Size</th>\n",
              "      <th>Age</th>\n",
              "    </tr>\n",
              "  </thead>\n",
              "  <tbody>\n",
              "    <tr>\n",
              "      <th>count</th>\n",
              "      <td>21828.000000</td>\n",
              "      <td>21828.000000</td>\n",
              "    </tr>\n",
              "    <tr>\n",
              "      <th>mean</th>\n",
              "      <td>3.550898</td>\n",
              "      <td>39.270616</td>\n",
              "    </tr>\n",
              "    <tr>\n",
              "      <th>std</th>\n",
              "      <td>2.066012</td>\n",
              "      <td>15.521400</td>\n",
              "    </tr>\n",
              "    <tr>\n",
              "      <th>min</th>\n",
              "      <td>1.000000</td>\n",
              "      <td>18.000000</td>\n",
              "    </tr>\n",
              "    <tr>\n",
              "      <th>25%</th>\n",
              "      <td>2.000000</td>\n",
              "      <td>27.000000</td>\n",
              "    </tr>\n",
              "    <tr>\n",
              "      <th>50%</th>\n",
              "      <td>3.000000</td>\n",
              "      <td>35.000000</td>\n",
              "    </tr>\n",
              "    <tr>\n",
              "      <th>75%</th>\n",
              "      <td>5.000000</td>\n",
              "      <td>49.000000</td>\n",
              "    </tr>\n",
              "    <tr>\n",
              "      <th>max</th>\n",
              "      <td>9.000000</td>\n",
              "      <td>84.000000</td>\n",
              "    </tr>\n",
              "  </tbody>\n",
              "</table>\n",
              "</div>"
            ],
            "text/plain": [
              "            HH_Size           Age\n",
              "count  21828.000000  21828.000000\n",
              "mean       3.550898     39.270616\n",
              "std        2.066012     15.521400\n",
              "min        1.000000     18.000000\n",
              "25%        2.000000     27.000000\n",
              "50%        3.000000     35.000000\n",
              "75%        5.000000     49.000000\n",
              "max        9.000000     84.000000"
            ]
          },
          "metadata": {},
          "execution_count": 155
        }
      ]
    },
    {
      "cell_type": "code",
      "metadata": {
        "colab": {
          "base_uri": "https://localhost:8080/"
        },
        "id": "co2dlvyAhlLr",
        "outputId": "0b33386c-d1e6-4959-cb7c-4e1f3cd523c3"
      },
      "source": [
        "#Finding the Mode to compare for skewness:\n",
        "df2['Age'].mode()\n",
        "#From the observation, the mean and median are greater than the mode, hence our variable is positively skewed. "
      ],
      "execution_count": 156,
      "outputs": [
        {
          "output_type": "execute_result",
          "data": {
            "text/plain": [
              "0    30.0\n",
              "dtype: float64"
            ]
          },
          "metadata": {},
          "execution_count": 156
        }
      ]
    },
    {
      "cell_type": "markdown",
      "metadata": {
        "id": "_ZgQHs_BI9nQ"
      },
      "source": [
        "**Conclusions and Recommendations**\n",
        "\n",
        "From this analysis;\n",
        "- Majority of our population was based in the rural areas.\n",
        "- The average age of our Adult population was 35 Years.\n",
        "- Average Household size is 3.\n",
        "- Most of this individuals had access to mobile phones.\n",
        "- Majority did not own Bank accounts.\n",
        "- The highest level of education was Primary Education.\n",
        "\n",
        "With all this factors at play:\n",
        "- Further analysis of the data is recommended to test for any relatiosnhip between this demographic factors. \n",
        "\n",
        "- Of note is also the type of job most of the individuals engaged in. Collecting more information on those formally employed can help provide better insights on financial inclusivity.\n",
        "- Looking at the location concetration of our population can also help us understand reasons why most do no have bank accounts.\n",
        "- Most individuals have access to Mobile phones. Alternative ways of accessing banking services on the population that has bank accounts can be utilised.\n"
      ]
    },
    {
      "cell_type": "markdown",
      "metadata": {
        "id": "JyRj6AYUMfye"
      },
      "source": [
        "**Bivariate Analysis**"
      ]
    },
    {
      "cell_type": "markdown",
      "metadata": {
        "id": "krLGEQ8UMnQK"
      },
      "source": [
        "This analysis shall help assess any relationship between the variables in our previous analysis."
      ]
    },
    {
      "cell_type": "markdown",
      "metadata": {
        "id": "H8pwY6DgoWFQ"
      },
      "source": [
        "- Numerical variables"
      ]
    },
    {
      "cell_type": "code",
      "metadata": {
        "colab": {
          "base_uri": "https://localhost:8080/"
        },
        "id": "h8AFQA6yRr3A",
        "outputId": "390f10a9-e4cf-4ac7-84c9-eab5b555d7e8"
      },
      "source": [
        "#Starting with our numerical variables, to understand if there is any relationship between the Ages and Household size:\n",
        "df2['Age'].corr(df2['HH_Size'])"
      ],
      "execution_count": 80,
      "outputs": [
        {
          "output_type": "execute_result",
          "data": {
            "text/plain": [
              "-0.09085580554847923"
            ]
          },
          "metadata": {},
          "execution_count": 80
        }
      ]
    },
    {
      "cell_type": "code",
      "metadata": {
        "colab": {
          "base_uri": "https://localhost:8080/",
          "height": 343
        },
        "id": "_-yYRslzcOcb",
        "outputId": "8a2ba919-2057-42ed-92fb-365549fc8e31"
      },
      "source": [
        "#Visualizing this relation in a scatter plot:\n",
        "df2.plot(x = 'Age', y = 'HH_Size', kind='scatter')\n",
        "plt.title('Relation between Age and Household Size')\n",
        "plt.xlabel('Age')\n",
        "plt.ylabel('Household Size')\n",
        "plt.show()"
      ],
      "execution_count": 157,
      "outputs": [
        {
          "output_type": "stream",
          "name": "stderr",
          "text": [
            "*c* argument looks like a single numeric RGB or RGBA sequence, which should be avoided as value-mapping will have precedence in case its length matches with *x* & *y*.  Please use the *color* keyword-argument or provide a 2-D array with a single row if you intend to specify the same RGB or RGBA value for all points.\n"
          ]
        },
        {
          "output_type": "display_data",
          "data": {
            "image/png": "[encoded data removed]",
            "text/plain": [
              "<Figure size 432x288 with 1 Axes>"
            ]
          },
          "metadata": {}
        }
      ]
    },
    {
      "cell_type": "markdown",
      "metadata": {
        "id": "IevI4SNOS0gD"
      },
      "source": [
        "No relationship exists between ones Age and their Household Size."
      ]
    },
    {
      "cell_type": "markdown",
      "metadata": {
        "id": "JWy8MBZwS38U"
      },
      "source": [
        "- Categorical Variables"
      ]
    },
    {
      "cell_type": "markdown",
      "metadata": {
        "id": "M5pZH5fQVFrU"
      },
      "source": [
        "1. Bank account ownership and Geographical location"
      ]
    },
    {
      "cell_type": "code",
      "metadata": {
        "colab": {
          "base_uri": "https://localhost:8080/",
          "height": 306
        },
        "id": "I79eFjZqVEMt",
        "outputId": "57693e50-d827-4957-b5a0-ac6f96412c40"
      },
      "source": [
        "#To understand the relationship between ownership and Location:\n",
        "C=pd.crosstab(index=df2['Location'],columns=df2['Bank_Access'])\n",
        "C.plot.bar(figsize=(7,4), rot=0)\n"
      ],
      "execution_count": 82,
      "outputs": [
        {
          "output_type": "execute_result",
          "data": {
            "text/plain": [
              "<matplotlib.axes._subplots.AxesSubplot at 0x7f2dbdaae290>"
            ]
          },
          "metadata": {},
          "execution_count": 82
        },
        {
          "output_type": "display_data",
          "data": {
            "image/png": "[encoded data removed]",
            "text/plain": [
              "<Figure size 504x288 with 1 Axes>"
            ]
          },
          "metadata": {}
        }
      ]
    },
    {
      "cell_type": "markdown",
      "metadata": {
        "id": "GFwETGEkW6tu"
      },
      "source": [
        "Majority of the individuals in this centres lacked bank accounts"
      ]
    },
    {
      "cell_type": "markdown",
      "metadata": {
        "id": "eWz9SjwkXZB-"
      },
      "source": [
        "2. Mobile Phone accessibility and Location"
      ]
    },
    {
      "cell_type": "code",
      "metadata": {
        "colab": {
          "base_uri": "https://localhost:8080/",
          "height": 306
        },
        "id": "pIE4ELg5YPyG",
        "outputId": "2326fb50-b81d-47a9-f63f-489e415a07f8"
      },
      "source": [
        "#To view mobile Phone Accesibility by location:\n",
        "C=pd.crosstab(index=df2['Location'],columns=df2['Phone_Access'])\n",
        "C.plot.bar(figsize=(7,4), rot=0)"
      ],
      "execution_count": 83,
      "outputs": [
        {
          "output_type": "execute_result",
          "data": {
            "text/plain": [
              "<matplotlib.axes._subplots.AxesSubplot at 0x7f2dbda26a50>"
            ]
          },
          "metadata": {},
          "execution_count": 83
        },
        {
          "output_type": "display_data",
          "data": {
            "image/png": "[encoded data removed]",
            "text/plain": [
              "<Figure size 504x288 with 1 Axes>"
            ]
          },
          "metadata": {}
        }
      ]
    },
    {
      "cell_type": "markdown",
      "metadata": {
        "id": "QnRFnlWjYhub"
      },
      "source": [
        "Most Individuals had access to mobile phones."
      ]
    },
    {
      "cell_type": "markdown",
      "metadata": {
        "id": "za4BTmwP6YJv"
      },
      "source": [
        "3. Level of Education and Account ownership"
      ]
    },
    {
      "cell_type": "code",
      "metadata": {
        "colab": {
          "base_uri": "https://localhost:8080/",
          "height": 295
        },
        "id": "gAj0RT2u3M-R",
        "outputId": "a24f66db-29d8-488c-d556-fcda83fbb323"
      },
      "source": [
        "#To view bank account ownership by level of education:\n",
        "pd.crosstab(index=df2['Education'],columns=df2['Bank_Access'])"
      ],
      "execution_count": 84,
      "outputs": [
        {
          "output_type": "execute_result",
          "data": {
            "text/html": [
              "<div>\n",
              "<style scoped>\n",
              "    .dataframe tbody tr th:only-of-type {\n",
              "        vertical-align: middle;\n",
              "    }\n",
              "\n",
              "    .dataframe tbody tr th {\n",
              "        vertical-align: top;\n",
              "    }\n",
              "\n",
              "    .dataframe thead th {\n",
              "        text-align: right;\n",
              "    }\n",
              "</style>\n",
              "<table border=\"1\" class=\"dataframe\">\n",
              "  <thead>\n",
              "    <tr style=\"text-align: right;\">\n",
              "      <th>Bank_Access</th>\n",
              "      <th>No</th>\n",
              "      <th>Yes</th>\n",
              "    </tr>\n",
              "    <tr>\n",
              "      <th>Education</th>\n",
              "      <th></th>\n",
              "      <th></th>\n",
              "    </tr>\n",
              "  </thead>\n",
              "  <tbody>\n",
              "    <tr>\n",
              "      <th>6</th>\n",
              "      <td>20</td>\n",
              "      <td>5</td>\n",
              "    </tr>\n",
              "    <tr>\n",
              "      <th>No formal education</th>\n",
              "      <td>4048</td>\n",
              "      <td>161</td>\n",
              "    </tr>\n",
              "    <tr>\n",
              "      <th>Other/Dont know/RTA</th>\n",
              "      <td>0</td>\n",
              "      <td>6</td>\n",
              "    </tr>\n",
              "    <tr>\n",
              "      <th>Primary education</th>\n",
              "      <td>10946</td>\n",
              "      <td>1060</td>\n",
              "    </tr>\n",
              "    <tr>\n",
              "      <th>Secondary education</th>\n",
              "      <td>2718</td>\n",
              "      <td>959</td>\n",
              "    </tr>\n",
              "    <tr>\n",
              "      <th>Tertiary education</th>\n",
              "      <td>543</td>\n",
              "      <td>584</td>\n",
              "    </tr>\n",
              "    <tr>\n",
              "      <th>Vocational/Specialised training</th>\n",
              "      <td>329</td>\n",
              "      <td>449</td>\n",
              "    </tr>\n",
              "  </tbody>\n",
              "</table>\n",
              "</div>"
            ],
            "text/plain": [
              "Bank_Access                         No   Yes\n",
              "Education                                   \n",
              "6                                   20     5\n",
              "No formal education               4048   161\n",
              "Other/Dont know/RTA                  0     6\n",
              "Primary education                10946  1060\n",
              "Secondary education               2718   959\n",
              "Tertiary education                 543   584\n",
              "Vocational/Specialised training    329   449"
            ]
          },
          "metadata": {},
          "execution_count": 84
        }
      ]
    },
    {
      "cell_type": "markdown",
      "metadata": {
        "id": "-ykHXZS86ew-"
      },
      "source": [
        "Most individuals who owned bank accounts had reached Primary Education"
      ]
    },
    {
      "cell_type": "markdown",
      "metadata": {
        "id": "hOXz4KykZ8td"
      },
      "source": [
        "4. Bank account ownership and Mobile phone accessibility"
      ]
    },
    {
      "cell_type": "code",
      "metadata": {
        "colab": {
          "base_uri": "https://localhost:8080/",
          "height": 310
        },
        "id": "PRB9kRfjndGm",
        "outputId": "3e2a0e6e-4d0f-4332-d6d6-43609a1f17b8"
      },
      "source": [
        "#Understanding Account ownership and Mobile phone accessibility:\n",
        "C=pd.crosstab(index=df2['Phone_Access'],columns=df2['Bank_Access'])\n",
        "C.plot.bar(figsize=(7,4), rot=0)"
      ],
      "execution_count": 85,
      "outputs": [
        {
          "output_type": "execute_result",
          "data": {
            "text/plain": [
              "<matplotlib.axes._subplots.AxesSubplot at 0x7f2dbd9a26d0>"
            ]
          },
          "metadata": {},
          "execution_count": 85
        },
        {
          "output_type": "display_data",
          "data": {
            "image/png": "[encoded data removed]",
            "text/plain": [
              "<Figure size 504x288 with 1 Axes>"
            ]
          },
          "metadata": {}
        }
      ]
    },
    {
      "cell_type": "markdown",
      "metadata": {
        "id": "EuQDA_ADeHbk"
      },
      "source": [
        "Majority of the individuals who had Access to Phones also had Bank accounts"
      ]
    },
    {
      "cell_type": "markdown",
      "metadata": {
        "id": "ObyzBRqEaqje"
      },
      "source": [
        "5. Bank account ownership By Age Group"
      ]
    },
    {
      "cell_type": "code",
      "metadata": {
        "id": "INzdl8pAr4Cl"
      },
      "source": [
        "#To find ownership of bank account by the different ages:\n",
        "df2['Age_bins'] = pd.cut(x=df2['Age'], bins=[20, 30, 40, 50, 60, 70, 80, 90])"
      ],
      "execution_count": 86,
      "outputs": []
    },
    {
      "cell_type": "code",
      "metadata": {
        "colab": {
          "base_uri": "https://localhost:8080/",
          "height": 578
        },
        "id": "prGmT-MAsS8z",
        "outputId": "31122609-1a1f-4836-d436-a612c047c4b6"
      },
      "source": [
        "#Comparing Mobile phone and Bank account across age groups:\n",
        "C=pd.crosstab(index=df2['Age_bins'],columns=df2['Bank_Access'])\n",
        "C.plot.bar(figsize=(9,4), rot=0)\n",
        "C=pd.crosstab(index=df2['Age_bins'],columns=df2['Phone_Access'])\n",
        "C.plot.bar(figsize=(9,4), rot=0)"
      ],
      "execution_count": 87,
      "outputs": [
        {
          "output_type": "execute_result",
          "data": {
            "text/plain": [
              "<matplotlib.axes._subplots.AxesSubplot at 0x7f2dbd8a6450>"
            ]
          },
          "metadata": {},
          "execution_count": 87
        },
        {
          "output_type": "display_data",
          "data": {
            "image/png": "[encoded data removed]",
            "text/plain": [
              "<Figure size 648x288 with 1 Axes>"
            ]
          },
          "metadata": {}
        },
        {
          "output_type": "display_data",
          "data": {
            "image/png": "[encoded data removed]",
            "text/plain": [
              "<Figure size 648x288 with 1 Axes>"
            ]
          },
          "metadata": {}
        }
      ]
    },
    {
      "cell_type": "markdown",
      "metadata": {
        "id": "nGT-w1T40Muu"
      },
      "source": [
        "Phone accessibility is high among the 20-30 years. The same group leads in lack of bank account ownership."
      ]
    },
    {
      "cell_type": "markdown",
      "metadata": {
        "id": "6nDNXRP8z3Tn"
      },
      "source": [
        "6. Bank Account ownership by Occupation"
      ]
    },
    {
      "cell_type": "code",
      "metadata": {
        "colab": {
          "base_uri": "https://localhost:8080/",
          "height": 388
        },
        "id": "L3SWTTsHybLd",
        "outputId": "0ecd9ff0-0831-47e6-8bed-0478b0789f7f"
      },
      "source": [
        "#To view bank account ownership by type of job:\n",
        "pd.crosstab(index=df2['Occupation'],columns=df2['Bank_Access'])"
      ],
      "execution_count": 88,
      "outputs": [
        {
          "output_type": "execute_result",
          "data": {
            "text/html": [
              "<div>\n",
              "<style scoped>\n",
              "    .dataframe tbody tr th:only-of-type {\n",
              "        vertical-align: middle;\n",
              "    }\n",
              "\n",
              "    .dataframe tbody tr th {\n",
              "        vertical-align: top;\n",
              "    }\n",
              "\n",
              "    .dataframe thead th {\n",
              "        text-align: right;\n",
              "    }\n",
              "</style>\n",
              "<table border=\"1\" class=\"dataframe\">\n",
              "  <thead>\n",
              "    <tr style=\"text-align: right;\">\n",
              "      <th>Bank_Access</th>\n",
              "      <th>No</th>\n",
              "      <th>Yes</th>\n",
              "    </tr>\n",
              "    <tr>\n",
              "      <th>Occupation</th>\n",
              "      <th></th>\n",
              "      <th></th>\n",
              "    </tr>\n",
              "  </thead>\n",
              "  <tbody>\n",
              "    <tr>\n",
              "      <th>Dont Know/Refuse to answer</th>\n",
              "      <td>102</td>\n",
              "      <td>14</td>\n",
              "    </tr>\n",
              "    <tr>\n",
              "      <th>Farming and Fishing</th>\n",
              "      <td>4573</td>\n",
              "      <td>619</td>\n",
              "    </tr>\n",
              "    <tr>\n",
              "      <th>Formally employed Government</th>\n",
              "      <td>83</td>\n",
              "      <td>297</td>\n",
              "    </tr>\n",
              "    <tr>\n",
              "      <th>Formally employed Private</th>\n",
              "      <td>460</td>\n",
              "      <td>563</td>\n",
              "    </tr>\n",
              "    <tr>\n",
              "      <th>Government Dependent</th>\n",
              "      <td>166</td>\n",
              "      <td>41</td>\n",
              "    </tr>\n",
              "    <tr>\n",
              "      <th>Informally employed</th>\n",
              "      <td>4899</td>\n",
              "      <td>436</td>\n",
              "    </tr>\n",
              "    <tr>\n",
              "      <th>No Income</th>\n",
              "      <td>462</td>\n",
              "      <td>11</td>\n",
              "    </tr>\n",
              "    <tr>\n",
              "      <th>Other Income</th>\n",
              "      <td>797</td>\n",
              "      <td>183</td>\n",
              "    </tr>\n",
              "    <tr>\n",
              "      <th>Remittance Dependent</th>\n",
              "      <td>1772</td>\n",
              "      <td>225</td>\n",
              "    </tr>\n",
              "    <tr>\n",
              "      <th>Self employed</th>\n",
              "      <td>5290</td>\n",
              "      <td>835</td>\n",
              "    </tr>\n",
              "  </tbody>\n",
              "</table>\n",
              "</div>"
            ],
            "text/plain": [
              "Bank_Access                     No  Yes\n",
              "Occupation                             \n",
              "Dont Know/Refuse to answer     102   14\n",
              "Farming and Fishing           4573  619\n",
              "Formally employed Government    83  297\n",
              "Formally employed Private      460  563\n",
              "Government Dependent           166   41\n",
              "Informally employed           4899  436\n",
              "No Income                      462   11\n",
              "Other Income                   797  183\n",
              "Remittance Dependent          1772  225\n",
              "Self employed                 5290  835"
            ]
          },
          "metadata": {},
          "execution_count": 88
        }
      ]
    },
    {
      "cell_type": "markdown",
      "metadata": {
        "id": "1OS9Yrme0rDy"
      },
      "source": [
        "Self Employed persons reported high numbers of bank account ownership.The same persons also had high numbers of those who lacked bank accounts.\n",
        " "
      ]
    },
    {
      "cell_type": "markdown",
      "metadata": {
        "id": "dcOtf8FKtojT"
      },
      "source": [
        "**Conclusions and Recommendations**\n",
        "\n",
        "From Bivariate analysis;\n",
        "- Majority of the individuals in both locations lacked bank accounts.\n",
        "- Individuals who had access to phones also had bank accounts.\n",
        "- No relationship was observed between Age and Household sizes.\n",
        "- Most individuals who accessed phones and lacked bank accounts were around the ages of 20-30 Years.\n",
        "\n",
        "From this analysis, it is quite evident that almost all the demographical factors captured in our dataset contribute to the bank account ownership status of an individual.\n",
        "\n",
        "Therefore, when predicting Individuals who are likely to use/own bank accounts, one should consider things like :Type of Job, Location, Age, Phone Accessibility and Level of education."
      ]
    },
    {
      "cell_type": "markdown",
      "metadata": {
        "id": "LBcbat2fPUxX"
      },
      "source": [
        "**Multivariate Analysis**"
      ]
    },
    {
      "cell_type": "markdown",
      "metadata": {
        "id": "LZSRaQpS7KSQ"
      },
      "source": [
        "In this Analysis, we seek to Predict which individuals are likely to have/use bank account"
      ]
    },
    {
      "cell_type": "code",
      "metadata": {
        "id": "ef6Tvxf1Clnk"
      },
      "source": [
        "#Importing Libraries:\n",
        "from sklearn.model_selection import train_test_split\n",
        "from sklearn.linear_model import LogisticRegression\n",
        "from sklearn.metrics import classification_report\n",
        "from sklearn.metrics import confusion_matrix\n",
        "from sklearn.metrics import accuracy_score\n",
        "from sklearn.preprocessing import StandardScaler\n",
        "\n"
      ],
      "execution_count": 130,
      "outputs": []
    },
    {
      "cell_type": "markdown",
      "metadata": {
        "id": "N9AZHG6CC99R"
      },
      "source": [
        "**Train and Test Data**"
      ]
    },
    {
      "cell_type": "code",
      "metadata": {
        "colab": {
          "base_uri": "https://localhost:8080/",
          "height": 203
        },
        "id": "BFR1wNd_DioH",
        "outputId": "60559e17-e170-4bbe-bee4-9ca1dcf5956d"
      },
      "source": [
        "#Creating Our dataframe:\n",
        "df3 = df2[['uniqueid','country','Bank_Access', 'Location', 'Phone_Access','Age', 'Sex', 'Education','Occupation']].copy()\n",
        "df3.head()"
      ],
      "execution_count": 131,
      "outputs": [
        {
          "output_type": "execute_result",
          "data": {
            "text/html": [
              "<div>\n",
              "<style scoped>\n",
              "    .dataframe tbody tr th:only-of-type {\n",
              "        vertical-align: middle;\n",
              "    }\n",
              "\n",
              "    .dataframe tbody tr th {\n",
              "        vertical-align: top;\n",
              "    }\n",
              "\n",
              "    .dataframe thead th {\n",
              "        text-align: right;\n",
              "    }\n",
              "</style>\n",
              "<table border=\"1\" class=\"dataframe\">\n",
              "  <thead>\n",
              "    <tr style=\"text-align: right;\">\n",
              "      <th></th>\n",
              "      <th>uniqueid</th>\n",
              "      <th>country</th>\n",
              "      <th>Bank_Access</th>\n",
              "      <th>Location</th>\n",
              "      <th>Phone_Access</th>\n",
              "      <th>Age</th>\n",
              "      <th>Sex</th>\n",
              "      <th>Education</th>\n",
              "      <th>Occupation</th>\n",
              "    </tr>\n",
              "  </thead>\n",
              "  <tbody>\n",
              "    <tr>\n",
              "      <th>0</th>\n",
              "      <td>uniqueid_1</td>\n",
              "      <td>Kenya</td>\n",
              "      <td>Yes</td>\n",
              "      <td>Rural</td>\n",
              "      <td>Yes</td>\n",
              "      <td>24.0</td>\n",
              "      <td>Female</td>\n",
              "      <td>Secondary education</td>\n",
              "      <td>Self employed</td>\n",
              "    </tr>\n",
              "    <tr>\n",
              "      <th>1</th>\n",
              "      <td>uniqueid_2</td>\n",
              "      <td>Kenya</td>\n",
              "      <td>No</td>\n",
              "      <td>Rural</td>\n",
              "      <td>No</td>\n",
              "      <td>70.0</td>\n",
              "      <td>Female</td>\n",
              "      <td>No formal education</td>\n",
              "      <td>Government Dependent</td>\n",
              "    </tr>\n",
              "    <tr>\n",
              "      <th>2</th>\n",
              "      <td>uniqueid_3</td>\n",
              "      <td>Kenya</td>\n",
              "      <td>Yes</td>\n",
              "      <td>Urban</td>\n",
              "      <td>Yes</td>\n",
              "      <td>26.0</td>\n",
              "      <td>Male</td>\n",
              "      <td>Vocational/Specialised training</td>\n",
              "      <td>Self employed</td>\n",
              "    </tr>\n",
              "    <tr>\n",
              "      <th>3</th>\n",
              "      <td>uniqueid_4</td>\n",
              "      <td>Kenya</td>\n",
              "      <td>No</td>\n",
              "      <td>Rural</td>\n",
              "      <td>Yes</td>\n",
              "      <td>34.0</td>\n",
              "      <td>Female</td>\n",
              "      <td>Primary education</td>\n",
              "      <td>Formally employed Private</td>\n",
              "    </tr>\n",
              "    <tr>\n",
              "      <th>4</th>\n",
              "      <td>uniqueid_5</td>\n",
              "      <td>Kenya</td>\n",
              "      <td>No</td>\n",
              "      <td>Urban</td>\n",
              "      <td>No</td>\n",
              "      <td>26.0</td>\n",
              "      <td>Male</td>\n",
              "      <td>Primary education</td>\n",
              "      <td>Informally employed</td>\n",
              "    </tr>\n",
              "  </tbody>\n",
              "</table>\n",
              "</div>"
            ],
            "text/plain": [
              "     uniqueid  ...                 Occupation\n",
              "0  uniqueid_1  ...              Self employed\n",
              "1  uniqueid_2  ...       Government Dependent\n",
              "2  uniqueid_3  ...              Self employed\n",
              "3  uniqueid_4  ...  Formally employed Private\n",
              "4  uniqueid_5  ...        Informally employed\n",
              "\n",
              "[5 rows x 9 columns]"
            ]
          },
          "metadata": {},
          "execution_count": 131
        }
      ]
    },
    {
      "cell_type": "code",
      "metadata": {
        "id": "R0IsPRVBU_XR"
      },
      "source": [
        "#Creating Dummies for our Variables:\n",
        "df4 = pd.get_dummies(df3, drop_first=True)\n",
        "\n",
        "#Dividing our dataset into features:\n",
        "X=df4.drop('Bank_Access_Yes', axis=1)\n",
        "Y=df4['Bank_Access_Yes']\n",
        "\n",
        "#Dividing data into training and test sets:\n",
        "X_train, X_test, Y_train, Y_test = train_test_split(X, Y, test_size=0.2, random_state=1)\n",
        "\n",
        "#Performing feature scaling:\n",
        "sc = StandardScaler()\n",
        "X_train = sc.fit_transform(X_train)\n",
        "X_test = sc.transform(X_test)\n",
        "\n",
        "#Performing logistic regression analysis:\n",
        "logmodel=LogisticRegression()\n",
        "logmodel.fit(X_train, Y_train)\n",
        "\n",
        "#Evaluating Performance:\n",
        "predictions=logmodel.predict(X_test)"
      ],
      "execution_count": 132,
      "outputs": []
    },
    {
      "cell_type": "markdown",
      "metadata": {
        "id": "1Lwl-4WALxmb"
      },
      "source": [
        "Data Accuracy"
      ]
    },
    {
      "cell_type": "code",
      "metadata": {
        "colab": {
          "base_uri": "https://localhost:8080/"
        },
        "id": "t_Pfrv6LgSCt",
        "outputId": "08793291-aa8d-4b2b-c5d5-d4db123fda1c"
      },
      "source": [
        "#To check for accuracy in our dataset:\n",
        "classification_report(Y_test,predictions)\n",
        "confusion_matrix(Y_test, predictions)\n",
        "accuracy_score(Y_test,predictions)*100"
      ],
      "execution_count": 134,
      "outputs": [
        {
          "output_type": "execute_result",
          "data": {
            "text/plain": [
              "81.539166284929"
            ]
          },
          "metadata": {},
          "execution_count": 134
        }
      ]
    }
  ]
}